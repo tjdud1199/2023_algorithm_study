{
 "cells": [
  {
   "cell_type": "code",
   "execution_count": null,
   "id": "4940ca1d",
   "metadata": {},
   "outputs": [],
   "source": [
    "n = int(input())\n",
    "answer = 0\n",
    "\n",
    "#n이 0 이상일 때 5로 나누는게 최선이다. 5로 나눌 수 있을 떄 까지 3을 빼고 answer에 1을 더한다. \n",
    "while n >= 0:\n",
    "    if n%5 ==0:\n",
    "        answer = answer + n//5\n",
    "        print(answer)\n",
    "        break\n",
    "    n = n-3\n",
    "    answer = answer+1\n",
    "else:\n",
    "    answer = -1\n",
    "    print(answer)\n",
    "    "
   ]
  }
 ],
 "metadata": {
  "kernelspec": {
   "display_name": "Python 3",
   "language": "python",
   "name": "python3"
  },
  "language_info": {
   "codemirror_mode": {
    "name": "ipython",
    "version": 3
   },
   "file_extension": ".py",
   "mimetype": "text/x-python",
   "name": "python",
   "nbconvert_exporter": "python",
   "pygments_lexer": "ipython3",
   "version": "3.8.8"
  }
 },
 "nbformat": 4,
 "nbformat_minor": 5
}
